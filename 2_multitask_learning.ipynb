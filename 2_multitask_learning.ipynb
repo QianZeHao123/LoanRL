{
 "cells": [
  {
   "cell_type": "markdown",
   "metadata": {},
   "source": [
    "# Multitask Deep Learning"
   ]
  },
  {
   "cell_type": "markdown",
   "metadata": {},
   "source": [
    "## Input Features\n",
    "\n",
    "$Input = b_x + lenghts + h_{state}$\n",
    "\n",
    "**Features in `b_x` include:**\n",
    "\n",
    "- **Loan ID (`loan_id`)**: This is an identifier representing different loan instances.\n",
    "- **installment, installment_timestep, state_cum_overduelength, remaining_debt, state_capital, state_interests, state_penalty**: These are features related to the loan's status and financial details.\n",
    "- **gender, age, amount, num_loan, duration, year_ratio, diff_city, marriage, kids, month_in, housing, edu, motivation**: These are features describing the personal information and background of the loan applicant.\n",
    "- **action_num_actual, installment_done, loan_done, recovery_rate_weighted**: These are features related to the loan operations and repayment status.\n",
    "\n",
    "## Output\n",
    "\n",
    "Multitask: Four tasks: \n",
    "* `State Prediction`: installment, remaining_debt, state_capital...\n",
    "* `Installment Done Prediction` (Loss: MaskedBCE)\n",
    "* `Loan Done Prediction` (Loss: MaskedBCE)\n",
    "* `Reward Prediction?` (Loss: MaskedMSE)"
   ]
  },
  {
   "cell_type": "code",
   "execution_count": null,
   "metadata": {},
   "outputs": [],
   "source": []
  }
 ],
 "metadata": {
  "kernelspec": {
   "display_name": "loan",
   "language": "python",
   "name": "python3"
  },
  "language_info": {
   "name": "python",
   "version": "3.11.11"
  }
 },
 "nbformat": 4,
 "nbformat_minor": 2
}
