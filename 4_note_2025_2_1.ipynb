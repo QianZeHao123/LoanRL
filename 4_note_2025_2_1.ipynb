{
 "cells": [
  {
   "cell_type": "code",
   "execution_count": null,
   "metadata": {},
   "outputs": [],
   "source": [
    "import pandas as pd\n",
    "data = pd.read_csv('./Data/20240205fullsample_new.csv')\n",
    "data.head()"
   ]
  },
  {
   "cell_type": "markdown",
   "metadata": {},
   "source": [
    "The purpose of `installment_timestep` is to generate a timestep for each installment of each loan (loan id), indicating the order in which that installment is repaid in the current loan."
   ]
  },
  {
   "cell_type": "code",
   "execution_count": 22,
   "metadata": {},
   "outputs": [],
   "source": [
    "data['installment_timestep'] = data.groupby(\n",
    "    ['loan_id', 'installment']).cumcount() + 1"
   ]
  },
  {
   "cell_type": "code",
   "execution_count": null,
   "metadata": {},
   "outputs": [],
   "source": [
    "data_sim = data.loc[data['sample'] == 'rlsimulator']\n",
    "data_sim"
   ]
  },
  {
   "cell_type": "code",
   "execution_count": 40,
   "metadata": {},
   "outputs": [],
   "source": [
    "# specific columns names\n",
    "loan_id = ['loan_id']\n",
    "user_features = ['gender',\n",
    "                 'age',\n",
    "                 'amount',\n",
    "                 'num_loan',\n",
    "                 'duration',\n",
    "                 'year_ratio',\n",
    "                 'diff_city',\n",
    "                 'marriage',\n",
    "                 'kids',\n",
    "                 'month_in',\n",
    "                 'housing',\n",
    "                 'edu',\n",
    "                 'motivation']\n",
    "current_state = ['installment',\n",
    "                 'installment_timestep',\n",
    "                 'state_cum_overduelength',\n",
    "                 'remaining_debt',\n",
    "                 'state_capital',\n",
    "                 'state_interests',\n",
    "                 'state_penalty',\n",
    "                 ]\n",
    "other_labels = ['installment_done',\n",
    "                'loan_done',\n",
    "                'recovery_rate_weighted']"
   ]
  },
  {
   "cell_type": "code",
   "execution_count": null,
   "metadata": {},
   "outputs": [],
   "source": [
    "loan_id_list = data_sim['loan_id'].unique().tolist()\n",
    "# len(loan_id_list)\n",
    "# loan_id_list\n",
    "target_state = pd.DataFrame()\n",
    "\n",
    "\n",
    "col_matching = {'installment': 'y_installment',\n",
    "                'installment_timestep': 'y_installment_timestep',\n",
    "                'state_cum_overduelength': 'y_state_cum_overduelength',\n",
    "                'remaining_debt': 'y_remaining_debt',\n",
    "                'state_capital': 'y_state_capital',\n",
    "                'state_interests': 'y_state_interests',\n",
    "                'state_penalty': 'y_state_penalty'}\n",
    "\n",
    "\n",
    "for example_id in loan_id_list:\n",
    "    example_data = data_sim.loc[data_sim['loan_id'] == example_id]\n",
    "    y_train = pd.DataFrame()\n",
    "    y_train = example_data[current_state]\n",
    "    y_train = y_train.rename(columns=col_matching)\n",
    "\n",
    "    if y_train.shape[0] > 1:\n",
    "        y_train = y_train[1:]\n",
    "        y_train = pd.concat(\n",
    "            [y_train, y_train.iloc[[-1]]], ignore_index=True)\n",
    "    target_state = pd.concat([target_state, y_train], ignore_index=True)\n",
    "\n",
    "\n",
    "target_state"
   ]
  },
  {
   "cell_type": "code",
   "execution_count": null,
   "metadata": {},
   "outputs": [],
   "source": [
    "data_sim_full = pd.DataFrame()\n",
    "data_sim_full = pd.concat(\n",
    "    [data_sim[['group']], data_sim[loan_id+user_features+current_state], target_state, data_sim[other_labels]], axis=1)\n",
    "data_sim_full"
   ]
  },
  {
   "cell_type": "code",
   "execution_count": 57,
   "metadata": {},
   "outputs": [],
   "source": [
    "data_sim_full.to_csv('./Res/simulator_data.csv', index=False)"
   ]
  },
  {
   "cell_type": "code",
   "execution_count": 59,
   "metadata": {},
   "outputs": [],
   "source": [
    "data_sim_full.to_excel('./Res/simulator_data.xlsx', index=False)"
   ]
  },
  {
   "cell_type": "code",
   "execution_count": null,
   "metadata": {},
   "outputs": [],
   "source": []
  }
 ],
 "metadata": {
  "kernelspec": {
   "display_name": "loan",
   "language": "python",
   "name": "python3"
  },
  "language_info": {
   "codemirror_mode": {
    "name": "ipython",
    "version": 3
   },
   "file_extension": ".py",
   "mimetype": "text/x-python",
   "name": "python",
   "nbconvert_exporter": "python",
   "pygments_lexer": "ipython3",
   "version": "3.11.11"
  }
 },
 "nbformat": 4,
 "nbformat_minor": 2
}
