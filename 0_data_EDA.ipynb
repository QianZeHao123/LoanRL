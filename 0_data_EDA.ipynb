{
 "cells": [
  {
   "cell_type": "code",
   "execution_count": 1,
   "metadata": {},
   "outputs": [],
   "source": [
    "import pandas as pd\n",
    "data = pd.read_csv('./Data/20240205fullsample.csv')\n",
    "data_new = pd.read_csv('./Data/20240205fullsample_new.csv')"
   ]
  },
  {
   "cell_type": "code",
   "execution_count": 7,
   "metadata": {},
   "outputs": [
    {
     "name": "stdout",
     "output_type": "stream",
     "text": [
      "The number of columns in the data is: 64\n",
      "The number of rows in the data is: 223349\n",
      "The number of columns in the new data is: 68\n",
      "The number of rows in the new data is: 223349\n"
     ]
    }
   ],
   "source": [
    "# get number of columns in the data\n",
    "print('The number of columns in the data is:', len(data.columns))\n",
    "# get number of rows in the data\n",
    "print('The number of rows in the data is:', len(data))\n",
    "\n",
    "# get the number of columns in the new data\n",
    "print('The number of columns in the new data is:', len(data_new.columns))\n",
    "# get the number of rows in the new data\n",
    "print('The number of rows in the new data is:', len(data_new))"
   ]
  },
  {
   "cell_type": "code",
   "execution_count": 2,
   "metadata": {},
   "outputs": [
    {
     "data": {
      "text/plain": [
       "Index(['group', 'id', 'loan_id', 'EID', 'installment', 'action',\n",
       "       'action_num_should', 'action_num_actual', 'cumu_action0',\n",
       "       'cumu_action1', 'cumu_action2', 'cumu_action3', 'cumu_action4',\n",
       "       'due_date', 'repay_date', 'action_date_should', 'action_date_actual',\n",
       "       'fill', 'delinquency', 'default', 'cumulative_delinquencies',\n",
       "       'state_capital', 'state_interests', 'state_penalty', 'state_total',\n",
       "       'state_cum_overduelength', 'reward_capital', 'remaining_debt',\n",
       "       'reward_interests', 'reward_penalty', 'reward_total',\n",
       "       'reward_overduelength', 'reward_gaplength', 'reward',\n",
       "       'installment_done', 'state_done', 'loan_done1', 'loan_done2',\n",
       "       'cumulative_overdue_early_difference', 'gender', 'age', 'amount',\n",
       "       'num_loan', 'duration', 'year_ratio', 'diff_city', 'marriage', 'kids',\n",
       "       'month_in', 'housing', 'edu', 'motivation', 'cluster',\n",
       "       'reward_total_nn', 'reward_capital_nn', 'reward_repay_svm',\n",
       "       'recovery_rate', 'reward_recovery_rate_nn', 'reward_recovery_rate_nn13',\n",
       "       'reward_recovery_rate_nn14', 'delay_due_days', 'delay_due_days_diff',\n",
       "       'recovery_rate_total', 'loan_done'],\n",
       "      dtype='object')"
      ]
     },
     "execution_count": 2,
     "metadata": {},
     "output_type": "execute_result"
    }
   ],
   "source": [
    "data.columns"
   ]
  },
  {
   "cell_type": "code",
   "execution_count": 3,
   "metadata": {},
   "outputs": [
    {
     "data": {
      "text/plain": [
       "Index(['group', 'id', 'loan_id', 'EID', 'installment', 'action',\n",
       "       'action_num_should', 'action_num_actual', 'cumu_action0',\n",
       "       'cumu_action1', 'cumu_action2', 'cumu_action3', 'cumu_action4',\n",
       "       'due_date', 'repay_date', 'action_date_should', 'action_date_actual',\n",
       "       'fill', 'delinquency', 'default', 'cumulative_delinquencies',\n",
       "       'state_capital', 'state_interests', 'state_penalty', 'state_total',\n",
       "       'state_cum_overduelength', 'reward_capital', 'remaining_debt',\n",
       "       'reward_interests', 'reward_penalty', 'reward_total',\n",
       "       'reward_overduelength', 'reward_gaplength', 'reward',\n",
       "       'installment_done', 'state_done', 'loan_done1', 'loan_done2',\n",
       "       'cumulative_overdue_early_difference', 'gender', 'age', 'amount',\n",
       "       'num_loan', 'duration', 'year_ratio', 'diff_city', 'marriage', 'kids',\n",
       "       'month_in', 'housing', 'edu', 'motivation', 'cluster',\n",
       "       'reward_total_nn', 'reward_capital_nn', 'reward_repay_svm',\n",
       "       'recovery_rate', 'reward_recovery_rate_nn', 'reward_recovery_rate_nn13',\n",
       "       'reward_recovery_rate_nn14', 'delay_due_days', 'delay_due_days_diff',\n",
       "       'recovery_rate_total', 'loan_done', 'installment_timestep',\n",
       "       'recovery_rate_weights', 'recovery_rate_weighted', 'sample'],\n",
       "      dtype='object')"
      ]
     },
     "execution_count": 3,
     "metadata": {},
     "output_type": "execute_result"
    }
   ],
   "source": [
    "data_new.columns"
   ]
  },
  {
   "cell_type": "code",
   "execution_count": null,
   "metadata": {},
   "outputs": [],
   "source": []
  }
 ],
 "metadata": {
  "kernelspec": {
   "display_name": "loan",
   "language": "python",
   "name": "python3"
  },
  "language_info": {
   "codemirror_mode": {
    "name": "ipython",
    "version": 3
   },
   "file_extension": ".py",
   "mimetype": "text/x-python",
   "name": "python",
   "nbconvert_exporter": "python",
   "pygments_lexer": "ipython3",
   "version": "3.11.11"
  }
 },
 "nbformat": 4,
 "nbformat_minor": 2
}
