{
 "cells": [
  {
   "cell_type": "markdown",
   "metadata": {},
   "source": [
    "# Data Preprocessing\n",
    "\n",
    "1. **Data Loading and Preprocessing**:\n",
    "   - Loads the data from a CSV file and standardizes specific columns (such as loan information, user states, etc.) for model training.\n",
    "   - Creates a new feature `installment_timestep` based on `loan_id` and `installment`.\n",
    "\n",
    "2. **Data Splitting**:\n",
    "   - Splits the data into training (`train`) and testing (`test`) sets based on the `sample` and `group` columns.\n",
    "\n",
    "3. **Feature and Label Preparation**:\n",
    "   - For each `loan_id`, extracts features and labels.\n",
    "   - Features include `loan_id`, user states, loan information, etc.\n",
    "   - Labels correspond to the next time step of the relevant state variables (e.g., prediction of `installment`).\n",
    "\n",
    "4. **Data Saving and Batching**:\n",
    "   - Saves the processed data as CSV files and stores the data in multiple batches by `loan_id` into pickle files for later training.\n",
    "\n",
    "5. **Training and Validation Split**:\n",
    "   - Randomly selects 10% of the training data as a validation set and the rest as the training set.\n",
    "\n",
    "The ultimate goal of this code is to save the processed data in a format suitable for training, ensuring that the data is standardized, properly split, and stored.\n"
   ]
  },
  {
   "cell_type": "code",
   "execution_count": null,
   "metadata": {},
   "outputs": [],
   "source": [
    "import pandas as pd\n",
    "data = pd.read_csv('./Data/20240205fullsample_new.csv')\n",
    "data.head()"
   ]
  },
  {
   "cell_type": "code",
   "execution_count": null,
   "metadata": {},
   "outputs": [],
   "source": [
    "# show data summary\n",
    "data.describe()"
   ]
  },
  {
   "cell_type": "markdown",
   "metadata": {},
   "source": [
    "The purpose of `installment_timestep` is to generate a timestep for each installment of each loan (loan id), indicating the order in which that installment is repaid in the current loan."
   ]
  },
  {
   "cell_type": "code",
   "execution_count": null,
   "metadata": {},
   "outputs": [],
   "source": [
    "data[\"installment_timestep\"] = data.groupby([\"loan_id\", \"installment\"]).cumcount() + 1"
   ]
  },
  {
   "cell_type": "code",
   "execution_count": null,
   "metadata": {},
   "outputs": [],
   "source": [
    "data_sim = data.loc[data['sample'] == 'rlsimulator']\n",
    "data_sim"
   ]
  },
  {
   "cell_type": "code",
   "execution_count": null,
   "metadata": {},
   "outputs": [],
   "source": [
    "# specific columns names\n",
    "loan_id = ['loan_id']\n",
    "bank_features = ['action_num_actual']\n",
    "user_features = ['gender',\n",
    "                 'age',\n",
    "                 'amount',\n",
    "                 'num_loan',\n",
    "                 'duration',\n",
    "                 'year_ratio',\n",
    "                 'diff_city',\n",
    "                 'marriage',\n",
    "                 'kids',\n",
    "                 'month_in',\n",
    "                 'housing',\n",
    "                 'edu',\n",
    "                 'motivation']\n",
    "current_state = ['installment',\n",
    "                 'installment_timestep',\n",
    "                 'state_cum_overduelength',\n",
    "                 'remaining_debt',\n",
    "                 'state_capital',\n",
    "                 'state_interests',\n",
    "                 'state_penalty',\n",
    "                 ]\n",
    "other_labels = ['installment_done',\n",
    "                'loan_done',\n",
    "                'recovery_rate_weighted']"
   ]
  },
  {
   "cell_type": "code",
   "execution_count": null,
   "metadata": {},
   "outputs": [],
   "source": [
    "from tqdm.auto import tqdm\n",
    "\n",
    "\n",
    "loan_id_list = data_sim[\"loan_id\"].unique().tolist()\n",
    "# len(loan_id_list)\n",
    "# loan_id_list\n",
    "target_state = pd.DataFrame()\n",
    "\n",
    "\n",
    "col_matching = {\n",
    "    \"installment\": \"y_installment\",\n",
    "    \"installment_timestep\": \"y_installment_timestep\",\n",
    "    \"state_cum_overduelength\": \"y_state_cum_overduelength\",\n",
    "    \"remaining_debt\": \"y_remaining_debt\",\n",
    "    \"state_capital\": \"y_state_capital\",\n",
    "    \"state_interests\": \"y_state_interests\",\n",
    "    \"state_penalty\": \"y_state_penalty\",\n",
    "}\n",
    "\n",
    "\n",
    "for example_id in tqdm(loan_id_list):\n",
    "    example_data = data_sim.loc[data_sim[\"loan_id\"] == example_id]\n",
    "    y_train = pd.DataFrame()\n",
    "    y_train = example_data[current_state]\n",
    "    y_train = y_train.rename(columns=col_matching)\n",
    "\n",
    "    if y_train.shape[0] > 1:\n",
    "        y_train = y_train[1:]\n",
    "        y_train = pd.concat([y_train, y_train.iloc[[-1]]], ignore_index=True)\n",
    "    target_state = pd.concat([target_state, y_train], ignore_index=True)\n",
    "\n",
    "\n",
    "target_state"
   ]
  },
  {
   "cell_type": "code",
   "execution_count": null,
   "metadata": {},
   "outputs": [],
   "source": [
    "data_sim_full = pd.DataFrame()\n",
    "data_sim_full = pd.concat(\n",
    "    [\n",
    "        data_sim[[\"group\"]],\n",
    "        data_sim[loan_id + bank_features + user_features + current_state],\n",
    "        target_state,\n",
    "        data_sim[other_labels],\n",
    "    ],\n",
    "    axis=1,\n",
    ")\n",
    "data_sim_full"
   ]
  },
  {
   "cell_type": "markdown",
   "metadata": {},
   "source": [
    "# Save the data"
   ]
  },
  {
   "cell_type": "code",
   "execution_count": null,
   "metadata": {},
   "outputs": [],
   "source": [
    "data_sim_full.to_csv('./Res/simulator_data.csv', index=False)"
   ]
  },
  {
   "cell_type": "code",
   "execution_count": null,
   "metadata": {},
   "outputs": [],
   "source": [
    "data_sim_full.to_excel('./Res/simulator_data.xlsx', index=False)"
   ]
  }
 ],
 "metadata": {
  "kernelspec": {
   "display_name": "loan",
   "language": "python",
   "name": "python3"
  },
  "language_info": {
   "name": "python",
   "version": "3.11.11"
  }
 },
 "nbformat": 4,
 "nbformat_minor": 2
}
